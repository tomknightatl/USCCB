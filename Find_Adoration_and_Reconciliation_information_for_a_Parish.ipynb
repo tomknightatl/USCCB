{
  "nbformat": 4,
  "nbformat_minor": 0,
  "metadata": {
    "colab": {
      "provenance": [],
      "authorship_tag": "ABX9TyM35w79jdglXk4d80qdXaqJ",
      "include_colab_link": true
    },
    "kernelspec": {
      "name": "python3",
      "display_name": "Python 3"
    },
    "language_info": {
      "name": "python"
    }
  },
  "cells": [
    {
      "cell_type": "markdown",
      "metadata": {
        "id": "view-in-github",
        "colab_type": "text"
      },
      "source": [
        "<a href=\"https://colab.research.google.com/github/tomknightatl/USCCB/blob/main/Find_Adoration_and_Reconciliation_information_for_a_Parish.ipynb\" target=\"_parent\"><img src=\"https://colab.research.google.com/assets/colab-badge.svg\" alt=\"Open In Colab\"/></a>"
      ]
    },
    {
      "cell_type": "code",
      "execution_count": 33,
      "metadata": {
        "id": "3HnsXHCXv7Hc"
      },
      "outputs": [],
      "source": [
        "# Cell 1\n",
        "import requests\n",
        "from bs4 import BeautifulSoup\n",
        "import re\n",
        "from urllib.parse import urljoin\n",
        "import sqlite3\n",
        "import pandas as pd"
      ]
    },
    {
      "cell_type": "code",
      "source": [
        "# Cell 2\n",
        "def get_sitemap_urls(url):\n",
        "    try:\n",
        "        response = requests.get(urljoin(url, '/sitemap.xml'))\n",
        "        if response.status_code == 200:\n",
        "            soup = BeautifulSoup(response.content, 'xml')\n",
        "            return [loc.text for loc in soup.find_all('loc')]\n",
        "    except:\n",
        "        pass\n",
        "    return []"
      ],
      "metadata": {
        "id": "37trhtN0v-m_"
      },
      "execution_count": 34,
      "outputs": []
    },
    {
      "cell_type": "code",
      "source": [
        "# Cell 3\n",
        "def search_for_keywords(url, keywords):\n",
        "    try:\n",
        "        response = requests.get(url)\n",
        "        if response.status_code == 200:\n",
        "            soup = BeautifulSoup(response.content, 'html.parser')\n",
        "            text = soup.get_text().lower()\n",
        "            return any(keyword.lower() in text for keyword in keywords)\n",
        "    except:\n",
        "        pass\n",
        "    return False"
      ],
      "metadata": {
        "id": "-yIZ6S4gwAmg"
      },
      "execution_count": 35,
      "outputs": []
    },
    {
      "cell_type": "code",
      "source": [
        "# Cell 4\n",
        "def extract_time_info(url, keyword):\n",
        "    try:\n",
        "        response = requests.get(url)\n",
        "        if response.status_code == 200:\n",
        "            soup = BeautifulSoup(response.content, 'html.parser')\n",
        "            text = soup.get_text()\n",
        "\n",
        "            # Look for patterns like \"X hours per week\" or \"X hours per month\"\n",
        "            time_pattern = re.compile(r'(\\d+)\\s*hours?\\s*per\\s*(week|month)', re.IGNORECASE)\n",
        "            match = time_pattern.search(text)\n",
        "\n",
        "            if match:\n",
        "                hours = int(match.group(1))\n",
        "                period = match.group(2).lower()\n",
        "                return f\"{hours} hours per {period}\"\n",
        "\n",
        "            # If no clear pattern is found, return the paragraph containing the keyword\n",
        "            paragraphs = soup.find_all('p')\n",
        "            for p in paragraphs:\n",
        "                if keyword.lower() in p.text.lower():\n",
        "                    return p.text.strip()\n",
        "    except:\n",
        "        pass\n",
        "    return \"Information not found\""
      ],
      "metadata": {
        "id": "dnQHSsYHwCLy"
      },
      "execution_count": 36,
      "outputs": []
    },
    {
      "cell_type": "code",
      "source": [
        "# Cell 5 (Changed)\n",
        "def scrape_parish_data(url):\n",
        "    sitemap_urls = get_sitemap_urls(url)\n",
        "    all_urls = [url] + sitemap_urls\n",
        "    print(f\"Found {len(all_urls)} URLs on Sitemap page:\")\n",
        "    for page_url  in all_urls:\n",
        "        print(page_url)\n",
        "\n",
        "    reconciliation_found = False\n",
        "    adoration_found = False\n",
        "    reconciliation_info = \"\"\n",
        "    adoration_info = \"\"\n",
        "    reconciliation_page = \"\"\n",
        "    adoration_page = \"\"\n",
        "\n",
        "    for page_url in all_urls:\n",
        "        print(f\"Checking {page_url}...\")\n",
        "        if not reconciliation_found and search_for_keywords(page_url, ['Reconciliation', 'Confession']):\n",
        "            reconciliation_found = True\n",
        "            reconciliation_info = extract_time_info(page_url, 'Reconciliation')\n",
        "            reconciliation_page = page_url\n",
        "\n",
        "        if not adoration_found and search_for_keywords(page_url, ['Adoration']):\n",
        "            adoration_found = True\n",
        "            adoration_info = extract_time_info(page_url, 'Adoration')\n",
        "            adoration_page = page_url\n",
        "\n",
        "        if reconciliation_found and adoration_found:\n",
        "            break\n",
        "\n",
        "    return {\n",
        "        'url': url,\n",
        "        'offers_reconciliation': reconciliation_found,\n",
        "        'reconciliation_info': reconciliation_info,\n",
        "        'reconciliation_page': reconciliation_page,\n",
        "        'offers_adoration': adoration_found,\n",
        "        'adoration_info': adoration_info,\n",
        "        'adoration_page': adoration_page\n",
        "    }\n"
      ],
      "metadata": {
        "id": "2dOwnZLGwGA8"
      },
      "execution_count": 48,
      "outputs": []
    },
    {
      "cell_type": "code",
      "source": [
        "# Cell 6\n",
        "parish_urls = [\n",
        "    'https://allsaintsdunwoody.org/',\n",
        "#    'https://sacredheartatlanta.org/',\n",
        "#    'https://cathedralctk.com/',\n",
        "    'https://www.christourhopeatl.org/'\n",
        "]\n",
        "\n",
        "results = []\n",
        "for url in parish_urls:\n",
        "    print(f\"Scraping {url}sitemap...\")\n",
        "    result = scrape_parish_data(url)\n",
        "    result['parish_name'] = url.split('//')[1].split('.')[0]\n",
        "    results.append(result)\n",
        "    print(f\"Completed scraping {url}\")"
      ],
      "metadata": {
        "colab": {
          "base_uri": "https://localhost:8080/"
        },
        "id": "miJEzRuawH0O",
        "outputId": "c7b5045d-db26-4969-c5e9-189e6125a3e3"
      },
      "execution_count": 49,
      "outputs": [
        {
          "output_type": "stream",
          "name": "stdout",
          "text": [
            "Scraping https://allsaintsdunwoody.org/sitemap...\n",
            "Found 9 URLs on Sitemap page:\n",
            "https://allsaintsdunwoody.org/\n",
            "https://allsaintsdunwoody.org/wp-sitemap-posts-post-1.xml\n",
            "https://allsaintsdunwoody.org/wp-sitemap-posts-page-1.xml\n",
            "https://allsaintsdunwoody.org/wp-sitemap-posts-calendar-1.xml\n",
            "https://allsaintsdunwoody.org/wp-sitemap-posts-envira-1.xml\n",
            "https://allsaintsdunwoody.org/wp-sitemap-taxonomies-category-1.xml\n",
            "https://allsaintsdunwoody.org/wp-sitemap-taxonomies-calendar_category-1.xml\n",
            "https://allsaintsdunwoody.org/wp-sitemap-taxonomies-media_category-1.xml\n",
            "https://allsaintsdunwoody.org/wp-sitemap-users-1.xml\n",
            "Checking https://allsaintsdunwoody.org/...\n",
            "Completed scraping https://allsaintsdunwoody.org/\n",
            "Scraping https://www.christourhopeatl.org/sitemap...\n",
            "Found 1 URLs on Sitemap page:\n",
            "https://www.christourhopeatl.org/\n",
            "Checking https://www.christourhopeatl.org/...\n",
            "Completed scraping https://www.christourhopeatl.org/\n"
          ]
        }
      ]
    },
    {
      "cell_type": "code",
      "source": [
        "# Cell 7\n",
        "df = pd.DataFrame(results)\n",
        "print(df)"
      ],
      "metadata": {
        "colab": {
          "base_uri": "https://localhost:8080/"
        },
        "id": "nW2v-B1zwJ78",
        "outputId": "175b05e9-17bc-4c2f-b65c-3a25c31c1518"
      },
      "execution_count": 39,
      "outputs": [
        {
          "output_type": "stream",
          "name": "stdout",
          "text": [
            "                                                 url  offers_reconciliation  \\\n",
            "0  https://allsaintsdunwoody.org/wp-sitemap-users...                   True   \n",
            "1                    https://sacredheartatlanta.org/                  False   \n",
            "2  https://cathedralctk.com/wp-sitemap-taxonomies...                   True   \n",
            "3                  https://www.christourhopeatl.org/                  False   \n",
            "\n",
            "                                 reconciliation_info  \\\n",
            "0  Penance/Reconciliation\\nConfessions are heard ...   \n",
            "1                                                      \n",
            "2                              Information not found   \n",
            "3                                                      \n",
            "\n",
            "              reconciliation_page  offers_adoration         adoration_info  \\\n",
            "0  https://allsaintsdunwoody.org/              True  Information not found   \n",
            "1                                             False                          \n",
            "2       https://cathedralctk.com/              True  Information not found   \n",
            "3                                             False                          \n",
            "\n",
            "                   adoration_page         parish_name  \n",
            "0  https://allsaintsdunwoody.org/   allsaintsdunwoody  \n",
            "1                                  sacredheartatlanta  \n",
            "2       https://cathedralctk.com/        cathedralctk  \n",
            "3                                                 www  \n"
          ]
        }
      ]
    },
    {
      "cell_type": "code",
      "source": [
        "# Cell 8\n",
        "conn = sqlite3.connect('parish_data.db')\n",
        "df.to_sql('parishes', conn, if_exists='replace', index=False)\n",
        "conn.close()\n",
        "\n",
        "print(\"Data saved to parish_data.db\")"
      ],
      "metadata": {
        "colab": {
          "base_uri": "https://localhost:8080/"
        },
        "id": "-pWoW1iUwLqD",
        "outputId": "74173acf-f740-48ac-b03f-8e8a338e13b8"
      },
      "execution_count": 40,
      "outputs": [
        {
          "output_type": "stream",
          "name": "stdout",
          "text": [
            "Data saved to parish_data.db\n"
          ]
        }
      ]
    },
    {
      "cell_type": "code",
      "source": [
        "# Cell 9\n",
        "# Verify data in the database\n",
        "conn = sqlite3.connect('parish_data.db')\n",
        "df_from_db = pd.read_sql_query(\"SELECT * FROM parishes\", conn)\n",
        "conn.close()\n",
        "\n",
        "print(df_from_db)"
      ],
      "metadata": {
        "colab": {
          "base_uri": "https://localhost:8080/"
        },
        "id": "aeKreCVPwNK_",
        "outputId": "e7184834-4858-4f50-9523-1019ff59ca40"
      },
      "execution_count": 41,
      "outputs": [
        {
          "output_type": "stream",
          "name": "stdout",
          "text": [
            "                                                 url  offers_reconciliation  \\\n",
            "0  https://allsaintsdunwoody.org/wp-sitemap-users...                      1   \n",
            "1                    https://sacredheartatlanta.org/                      0   \n",
            "2  https://cathedralctk.com/wp-sitemap-taxonomies...                      1   \n",
            "3                  https://www.christourhopeatl.org/                      0   \n",
            "\n",
            "                                 reconciliation_info  \\\n",
            "0  Penance/Reconciliation\\nConfessions are heard ...   \n",
            "1                                                      \n",
            "2                              Information not found   \n",
            "3                                                      \n",
            "\n",
            "              reconciliation_page  offers_adoration         adoration_info  \\\n",
            "0  https://allsaintsdunwoody.org/                 1  Information not found   \n",
            "1                                                 0                          \n",
            "2       https://cathedralctk.com/                 1  Information not found   \n",
            "3                                                 0                          \n",
            "\n",
            "                   adoration_page         parish_name  \n",
            "0  https://allsaintsdunwoody.org/   allsaintsdunwoody  \n",
            "1                                  sacredheartatlanta  \n",
            "2       https://cathedralctk.com/        cathedralctk  \n",
            "3                                                 www  \n"
          ]
        }
      ]
    }
  ]
}