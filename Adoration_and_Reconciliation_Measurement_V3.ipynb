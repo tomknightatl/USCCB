{
  "nbformat": 4,
  "nbformat_minor": 0,
  "metadata": {
    "colab": {
      "provenance": [],
      "authorship_tag": "ABX9TyMG2J135T3DUzZzdv1CHbw1",
      "include_colab_link": true
    },
    "kernelspec": {
      "name": "python3",
      "display_name": "Python 3"
    },
    "language_info": {
      "name": "python"
    }
  },
  "cells": [
    {
      "cell_type": "markdown",
      "metadata": {
        "id": "view-in-github",
        "colab_type": "text"
      },
      "source": [
        "<a href=\"https://colab.research.google.com/github/tomknightatl/USCCB/blob/main/Adoration_and_Reconciliation_Measurement_V3.ipynb\" target=\"_parent\"><img src=\"https://colab.research.google.com/assets/colab-badge.svg\" alt=\"Open In Colab\"/></a>"
      ]
    },
    {
      "cell_type": "code",
      "execution_count": 3,
      "metadata": {
        "id": "hhF7zOWbH9fN"
      },
      "outputs": [],
      "source": [
        "# Cell 1: Import necessary libraries\n",
        "\n",
        "import requests\n",
        "from bs4 import BeautifulSoup\n",
        "import pandas as pd\n",
        "import sqlite3\n",
        "import re\n",
        "from urllib.parse import urljoin, urlparse\n",
        "import time\n",
        "import logging\n",
        "\n",
        "# Configure logging\n",
        "logging.basicConfig(\n",
        "    level=logging.INFO,\n",
        "    format='%(asctime)s - %(levelname)s - %(message)s',\n",
        "    handlers=[\n",
        "        logging.FileHandler(\"scraping.log\"),\n",
        "        logging.StreamHandler()\n",
        "    ]\n",
        ")"
      ]
    },
    {
      "cell_type": "code",
      "source": [
        "# Cell 2: Define helper functions\n",
        "\n",
        "def get_soup(url, retries=3, backoff_factor=1.0):\n",
        "    \"\"\"\n",
        "    Fetches the content at the given URL and returns a BeautifulSoup object.\n",
        "    Implements retries with exponential backoff in case of request failures.\n",
        "    \"\"\"\n",
        "    headers = {\n",
        "        'User-Agent': ('Mozilla/5.0 (Windows NT 10.0; Win64; x64) '\n",
        "                       'AppleWebKit/537.36 (KHTML, like Gecko) '\n",
        "                       'Chrome/58.0.3029.110 Safari/537.3'),\n",
        "        'Accept-Language': 'en-US,en;q=0.9',\n",
        "        'Accept-Encoding': 'gzip, deflate',\n",
        "        'Connection': 'keep-alive'\n",
        "    }\n",
        "\n",
        "    for attempt in range(1, retries + 1):\n",
        "        try:\n",
        "            logging.info(f\"Attempt {attempt}: Fetching URL: {url}\")\n",
        "            response = requests.get(url, headers=headers, timeout=20)\n",
        "            logging.info(f\"Received status code: {response.status_code}\")\n",
        "            response.raise_for_status()\n",
        "            return BeautifulSoup(response.text, 'html.parser')\n",
        "        except requests.RequestException as e:\n",
        "            logging.warning(f\"Attempt {attempt} failed with error: {e}\")\n",
        "            if attempt == retries:\n",
        "                logging.error(f\"All {retries} attempts failed for URL: {url}\")\n",
        "                return None\n",
        "            sleep_time = backoff_factor * (2 ** (attempt - 1))\n",
        "            logging.info(f\"Retrying in {sleep_time} seconds...\")\n",
        "            time.sleep(sleep_time)\n",
        "\n",
        "def extract_dioceses(soup):\n",
        "    \"\"\"\n",
        "    Extracts dioceses information from the parsed HTML.\n",
        "    Returns a list of dictionaries with diocese details.\n",
        "    \"\"\"\n",
        "    dioceses = []\n",
        "    diocese_containers = soup.find_all('div', class_='views-row')\n",
        "\n",
        "    logging.info(f\"Found {len(diocese_containers)} potential diocese containers\")\n",
        "\n",
        "    for i, container in enumerate(diocese_containers):\n",
        "        logging.info(f\"Processing container {i+1}\")\n",
        "\n",
        "        da_wrap = container.find('div', class_='da-wrap')\n",
        "        if not da_wrap:\n",
        "            logging.warning(f\"No da-wrap found in container {i+1}\")\n",
        "            continue\n",
        "\n",
        "        name_div = da_wrap.find('div', class_='da-title')\n",
        "        diocese_name = name_div.get_text(strip=True) if name_div else \"N/A\"\n",
        "        logging.info(f\"Diocese name: {diocese_name}\")\n",
        "\n",
        "        address_div = da_wrap.find('div', class_='da-address')\n",
        "        address_parts = []\n",
        "        if address_div:\n",
        "            for div in address_div.find_all('div', recursive=False):\n",
        "                text = div.get_text(strip=True)\n",
        "                if text:\n",
        "                    address_parts.append(text)\n",
        "\n",
        "        address = \", \".join(address_parts)\n",
        "        logging.info(f\"Address: {address}\")\n",
        "\n",
        "        website_div = da_wrap.find('div', class_='site')\n",
        "        website_url = website_div.find('a')['href'] if website_div and website_div.find('a') else \"N/A\"\n",
        "        logging.info(f\"Website: {website_url}\")\n",
        "\n",
        "        dioceses.append({\n",
        "            'Name': diocese_name,\n",
        "            'Address': address,\n",
        "            'Website': website_url\n",
        "        })\n",
        "\n",
        "    return dioceses"
      ],
      "metadata": {
        "id": "a7yOnNETIInL"
      },
      "execution_count": 11,
      "outputs": []
    },
    {
      "cell_type": "code",
      "source": [
        "# Cell 3: Fetch and parse the HTML content from URL\n",
        "\n",
        "url = \"https://www.usccb.org/about/bishops-and-dioceses/all-dioceses\"\n",
        "soup = get_soup(url)\n",
        "\n",
        "if soup:\n",
        "    print(\"Successfully fetched and parsed the dioceses page.\")\n",
        "    # Print the first 1000 characters of the HTML to check its structure\n",
        "    print(\"First 1000 characters of the HTML:\")\n",
        "    print(soup.prettify()[:1000])\n",
        "else:\n",
        "    print(\"Failed to fetch the dioceses page. Please check your connection or the URL.\")\n",
        "    exit()"
      ],
      "metadata": {
        "colab": {
          "base_uri": "https://localhost:8080/"
        },
        "id": "H78OsQfwLvUG",
        "outputId": "aa221f80-b372-414f-9b83-b63ff1817d9e"
      },
      "execution_count": 12,
      "outputs": [
        {
          "output_type": "stream",
          "name": "stdout",
          "text": [
            "Successfully fetched and parsed the dioceses page.\n",
            "First 1000 characters of the HTML:\n",
            "<!DOCTYPE html>\n",
            "<html dir=\"ltr\" lang=\"en\" prefix=\"og: https://ogp.me/ns#\">\n",
            " <head>\n",
            "  <!-- Google Tag Manager -->\n",
            "  <script>\n",
            "   (function(w,d,s,l,i){w[l]=w[l]||[];w[l].push({'gtm.start':\n",
            "new Date().getTime(),event:'gtm.js'});var f=d.getElementsByTagName(s)[0],\n",
            "j=d.createElement(s),dl=l!='dataLayer'?'&l='+l:'';j.async=true;j.src=\n",
            "'https://www.googletagmanager.com/gtm.js?id='+i+dl;f.parentNode.insertBefore(j,f);\n",
            "})(window,document,'script','dataLayer','GTM-5JHPTP');\n",
            "  </script>\n",
            "  <!-- End Google Tag Manager -->\n",
            "  <meta charset=\"utf-8\"/>\n",
            "  <script type=\"text/javascript\">\n",
            "   (window.NREUM||(NREUM={})).init={ajax:{deny_list:[\"bam.nr-data.net\"]}};(window.NREUM||(NREUM={})).loader_config={licenseKey:\"NRJS-91f65b8eb2c03037f7e\",applicationID:\"578652560\"};;/*! For license information please see nr-loader-rum-1.266.0.min.js.LICENSE.txt */\n",
            "(()=>{var e,t,r={8122:(e,t,r)=>{\"use strict\";r.d(t,{a:()=>i});var n=r(944);function i(e,t){try{if(!e||\"object\"!=typeof e)return(0,n.R)(3);if(!t||\"object\"!=typeof\n"
          ]
        }
      ]
    },
    {
      "cell_type": "code",
      "source": [
        "# Cell 4: Extract dioceses information\n",
        "\n",
        "dioceses = extract_dioceses(soup)\n",
        "print(f\"Extracted information for {len(dioceses)} dioceses.\")\n",
        "\n",
        "if len(dioceses) == 0:\n",
        "    print(\"No dioceses were extracted. Printing the structure of the page:\")\n",
        "    print(soup.prettify())"
      ],
      "metadata": {
        "colab": {
          "base_uri": "https://localhost:8080/"
        },
        "id": "_Ve1ydjDIKpV",
        "outputId": "60100a14-534e-449b-b749-2efd172b4272"
      },
      "execution_count": 13,
      "outputs": [
        {
          "output_type": "stream",
          "name": "stdout",
          "text": [
            "Extracted information for 196 dioceses.\n"
          ]
        }
      ]
    },
    {
      "cell_type": "code",
      "source": [
        "# Cell 5: Create a DataFrame and display results\n",
        "\n",
        "dioceses_df = pd.DataFrame(dioceses)\n",
        "print(dioceses_df.head())"
      ],
      "metadata": {
        "id": "6peqWCFhIMZz",
        "colab": {
          "base_uri": "https://localhost:8080/"
        },
        "outputId": "f4cdfafd-3543-4331-9f09-207dc4aebe0c"
      },
      "execution_count": 14,
      "outputs": [
        {
          "output_type": "stream",
          "name": "stdout",
          "text": [
            "                                                Name  \\\n",
            "0                              Archdiocese of Mobile   \n",
            "1                              Diocese of Birmingham   \n",
            "2                    Archdiocese of Anchorage-Juneau   \n",
            "3                               Diocese of Fairbanks   \n",
            "4  Holy Protection of Mary Byzantine Catholic Epa...   \n",
            "\n",
            "                                             Address  \\\n",
            "0  400 Government Street, Mobile,AL36602, https:/...   \n",
            "1  2121 3rd Avenue North, P.O. Box 12047, Birming...   \n",
            "2  225 Cordova Street, Anchorage,AK99501-2409, ht...   \n",
            "3  1316 Peger Road, Fairbanks,AK99709-5199, http:...   \n",
            "4  8105 North 16th Street, Phoenix,AZ85020, http:...   \n",
            "\n",
            "                            Website  \n",
            "0              https://mobarch.org/  \n",
            "1        http://www.bhmdiocese.org/  \n",
            "2               http://www.aoaj.org  \n",
            "3             http://www.cbna.info/  \n",
            "4  http://www.eparchyofphoenix.org/  \n"
          ]
        }
      ]
    },
    {
      "cell_type": "code",
      "source": [
        "# Cell 6: Save to CSV\n",
        "\n",
        "dioceses_df.to_csv('dioceses.csv', index=False)\n",
        "print(\"CSV file 'dioceses.csv' has been created.\")"
      ],
      "metadata": {
        "id": "80tbaJXyIOTk",
        "colab": {
          "base_uri": "https://localhost:8080/"
        },
        "outputId": "02debbc7-931b-4ecb-a8a7-ae69b32eca07"
      },
      "execution_count": 15,
      "outputs": [
        {
          "output_type": "stream",
          "name": "stdout",
          "text": [
            "CSV file 'dioceses.csv' has been created.\n"
          ]
        }
      ]
    },
    {
      "cell_type": "code",
      "source": [
        "# Cell 7: Initialize SQLite database and create table\n",
        "\n",
        "conn = sqlite3.connect('catholic_dioceses.db')\n",
        "cursor = conn.cursor()\n",
        "\n",
        "cursor.execute('''\n",
        "    CREATE TABLE IF NOT EXISTS Dioceses (\n",
        "        id INTEGER PRIMARY KEY AUTOINCREMENT,\n",
        "        Name TEXT,\n",
        "        Address TEXT,\n",
        "        Website TEXT\n",
        "    )\n",
        "''')\n",
        "\n",
        "conn.commit()\n"
      ],
      "metadata": {
        "id": "ijMJez0kIPi5"
      },
      "execution_count": 16,
      "outputs": []
    },
    {
      "cell_type": "code",
      "source": [
        "# Cell 8: Populate Dioceses table\n",
        "\n",
        "for _, row in dioceses_df.iterrows():\n",
        "    cursor.execute('''\n",
        "        INSERT INTO Dioceses (Name, Address, Website)\n",
        "        VALUES (?, ?, ?)\n",
        "    ''', (row['Name'], row['Address'], row['Website']))\n",
        "\n",
        "conn.commit()\n",
        "print(\"Data has been inserted into the SQLite database.\")\n",
        "\n",
        "# Cell 9: Query and display data from the database\n",
        "\n",
        "cursor.execute('SELECT * FROM Dioceses LIMIT 5')\n",
        "results = cursor.fetchall()\n",
        "\n",
        "print(\"First 5 entries from the database:\")\n",
        "for row in results:\n",
        "    print(row)\n",
        "\n",
        "# Close the database connection\n",
        "conn.close()\n",
        "\n",
        "print(\"Database connection closed.\")\n"
      ],
      "metadata": {
        "colab": {
          "base_uri": "https://localhost:8080/"
        },
        "id": "lbPIlNkWrlr_",
        "outputId": "bf3f47c0-22d1-4c73-c482-0f4b1b3254c8"
      },
      "execution_count": 17,
      "outputs": [
        {
          "output_type": "stream",
          "name": "stdout",
          "text": [
            "Data has been inserted into the SQLite database.\n",
            "First 5 entries from the database:\n",
            "(1, 'Archdiocese of Mobile', '400 Government Street, Mobile,AL36602, https://mobarch.org/', 'https://mobarch.org/')\n",
            "(2, 'Diocese of Birmingham', '2121 3rd Avenue North, P.O. Box 12047, Birmingham,AL35202-2047, http://www.bhmdiocese.org/', 'http://www.bhmdiocese.org/')\n",
            "(3, 'Archdiocese of Anchorage-Juneau', '225 Cordova Street, Anchorage,AK99501-2409, http://www.aoaj.org', 'http://www.aoaj.org')\n",
            "(4, 'Diocese of Fairbanks', '1316 Peger Road, Fairbanks,AK99709-5199, http://www.cbna.info/', 'http://www.cbna.info/')\n",
            "(5, 'Holy Protection of Mary Byzantine Catholic Eparchy of Phoenix', '8105 North 16th Street, Phoenix,AZ85020, http://www.eparchyofphoenix.org/', 'http://www.eparchyofphoenix.org/')\n",
            "Database connection closed.\n"
          ]
        }
      ]
    },
    {
      "cell_type": "code",
      "source": [
        "# Cell 9: Find the parish directory page for each diocese\n",
        "\n",
        "import re\n",
        "import sqlite3\n",
        "from urllib.parse import urljoin\n",
        "\n",
        "def find_parish_directory(diocese_url):\n",
        "    \"\"\"\n",
        "    Searches the diocese website to find the page that lists parishes.\n",
        "    Returns the URL of the parish directory page if found, None otherwise.\n",
        "    \"\"\"\n",
        "    try:\n",
        "        soup = get_soup(diocese_url)\n",
        "        if not soup:\n",
        "            return None\n",
        "\n",
        "        # List of common terms that might indicate a parish directory\n",
        "        directory_terms = ['parish', 'parishes', 'churches', 'locations', 'directory']\n",
        "\n",
        "        # Search for links containing these terms\n",
        "        for link in soup.find_all('a', href=True):\n",
        "            href = link['href']\n",
        "            text = link.text.lower()\n",
        "            if any(term in text or term in href.lower() for term in directory_terms):\n",
        "                # Construct full URL if it's a relative path\n",
        "                full_url = urljoin(diocese_url, href)\n",
        "                logging.info(f\"Found potential parish directory: {full_url}\")\n",
        "                return full_url\n",
        "\n",
        "        logging.warning(f\"Could not find a parish directory page on {diocese_url}\")\n",
        "        return None\n",
        "    except Exception as e:\n",
        "        logging.error(f\"Error while searching for parish directory on {diocese_url}: {e}\")\n",
        "        return None\n",
        "\n",
        "# Establish database connection\n",
        "conn = sqlite3.connect('catholic_dioceses.db')\n",
        "cursor = conn.cursor()\n",
        "\n",
        "# Process each diocese\n",
        "cursor.execute('SELECT Name, Website FROM Dioceses')\n",
        "dioceses_db = cursor.fetchall()\n",
        "\n",
        "for diocese in dioceses_db:\n",
        "    diocese_name, diocese_url = diocese\n",
        "    print(f\"\\nProcessing Diocese: {diocese_name}\")\n",
        "\n",
        "    directory_url = find_parish_directory(diocese_url)\n",
        "    if directory_url:\n",
        "        print(f\"Found parish directory at: {directory_url}\")\n",
        "    else:\n",
        "        print(\"Could not find parish directory. You may need to search manually.\")\n",
        "\n",
        "    # Ask user if they want to proceed\n",
        "    user_input = input(\"Do you want to proceed to the next diocese? (yes/no): \").lower().strip()\n",
        "    if user_input != 'yes':\n",
        "        print(\"Stopping the process.\")\n",
        "        break\n",
        "\n",
        "print(\"Diocese processing completed.\")\n",
        "\n",
        "# Close the database connection\n",
        "conn.close()"
      ],
      "metadata": {
        "colab": {
          "base_uri": "https://localhost:8080/",
          "height": 810
        },
        "id": "mqJ6RmbeIRXh",
        "outputId": "c23b113a-ad3f-4a88-fac8-6f0512c0cff2"
      },
      "execution_count": 19,
      "outputs": [
        {
          "output_type": "stream",
          "name": "stderr",
          "text": [
            "WARNING:root:Attempt 1 failed with error: 403 Client Error: Forbidden for url: https://mobarch.org/\n"
          ]
        },
        {
          "output_type": "stream",
          "name": "stdout",
          "text": [
            "\n",
            "Processing Diocese: Archdiocese of Mobile\n"
          ]
        },
        {
          "output_type": "stream",
          "name": "stderr",
          "text": [
            "WARNING:root:Attempt 2 failed with error: 403 Client Error: Forbidden for url: https://mobarch.org/\n",
            "WARNING:root:Attempt 3 failed with error: 403 Client Error: Forbidden for url: https://mobarch.org/\n",
            "ERROR:root:All 3 attempts failed for URL: https://mobarch.org/\n"
          ]
        },
        {
          "name": "stdout",
          "output_type": "stream",
          "text": [
            "Could not find parish directory. You may need to search manually.\n",
            "Do you want to proceed to the next diocese? (yes/no): yes\n"
          ]
        },
        {
          "output_type": "stream",
          "name": "stderr",
          "text": [
            "WARNING:root:Attempt 1 failed with error: 403 Client Error: Forbidden for url: http://www.bhmdiocese.org/\n"
          ]
        },
        {
          "output_type": "stream",
          "name": "stdout",
          "text": [
            "\n",
            "Processing Diocese: Diocese of Birmingham\n"
          ]
        },
        {
          "output_type": "stream",
          "name": "stderr",
          "text": [
            "WARNING:root:Attempt 2 failed with error: 403 Client Error: Forbidden for url: http://www.bhmdiocese.org/\n",
            "WARNING:root:Attempt 3 failed with error: 403 Client Error: Forbidden for url: http://www.bhmdiocese.org/\n",
            "ERROR:root:All 3 attempts failed for URL: http://www.bhmdiocese.org/\n"
          ]
        },
        {
          "name": "stdout",
          "output_type": "stream",
          "text": [
            "Could not find parish directory. You may need to search manually.\n",
            "Do you want to proceed to the next diocese? (yes/no): yes\n"
          ]
        },
        {
          "output_type": "stream",
          "name": "stderr",
          "text": [
            "WARNING:root:Attempt 1 failed with error: 403 Client Error: Forbidden for url: http://www.aoaj.org/\n"
          ]
        },
        {
          "output_type": "stream",
          "name": "stdout",
          "text": [
            "\n",
            "Processing Diocese: Archdiocese of Anchorage-Juneau\n"
          ]
        },
        {
          "output_type": "stream",
          "name": "stderr",
          "text": [
            "WARNING:root:Attempt 2 failed with error: 403 Client Error: Forbidden for url: http://www.aoaj.org/\n",
            "WARNING:root:Attempt 3 failed with error: 403 Client Error: Forbidden for url: http://www.aoaj.org/\n",
            "ERROR:root:All 3 attempts failed for URL: http://www.aoaj.org\n"
          ]
        },
        {
          "output_type": "stream",
          "name": "stdout",
          "text": [
            "Could not find parish directory. You may need to search manually.\n"
          ]
        },
        {
          "output_type": "error",
          "ename": "KeyboardInterrupt",
          "evalue": "Interrupted by user",
          "traceback": [
            "\u001b[0;31m---------------------------------------------------------------------------\u001b[0m",
            "\u001b[0;31mKeyboardInterrupt\u001b[0m                         Traceback (most recent call last)",
            "\u001b[0;32m<ipython-input-19-a497ac694e9e>\u001b[0m in \u001b[0;36m<cell line: 44>\u001b[0;34m()\u001b[0m\n\u001b[1;32m     53\u001b[0m \u001b[0;34m\u001b[0m\u001b[0m\n\u001b[1;32m     54\u001b[0m     \u001b[0;31m# Ask user if they want to proceed\u001b[0m\u001b[0;34m\u001b[0m\u001b[0;34m\u001b[0m\u001b[0m\n\u001b[0;32m---> 55\u001b[0;31m     \u001b[0muser_input\u001b[0m \u001b[0;34m=\u001b[0m \u001b[0minput\u001b[0m\u001b[0;34m(\u001b[0m\u001b[0;34m\"Do you want to proceed to the next diocese? (yes/no): \"\u001b[0m\u001b[0;34m)\u001b[0m\u001b[0;34m.\u001b[0m\u001b[0mlower\u001b[0m\u001b[0;34m(\u001b[0m\u001b[0;34m)\u001b[0m\u001b[0;34m.\u001b[0m\u001b[0mstrip\u001b[0m\u001b[0;34m(\u001b[0m\u001b[0;34m)\u001b[0m\u001b[0;34m\u001b[0m\u001b[0;34m\u001b[0m\u001b[0m\n\u001b[0m\u001b[1;32m     56\u001b[0m     \u001b[0;32mif\u001b[0m \u001b[0muser_input\u001b[0m \u001b[0;34m!=\u001b[0m \u001b[0;34m'yes'\u001b[0m\u001b[0;34m:\u001b[0m\u001b[0;34m\u001b[0m\u001b[0;34m\u001b[0m\u001b[0m\n\u001b[1;32m     57\u001b[0m         \u001b[0mprint\u001b[0m\u001b[0;34m(\u001b[0m\u001b[0;34m\"Stopping the process.\"\u001b[0m\u001b[0;34m)\u001b[0m\u001b[0;34m\u001b[0m\u001b[0;34m\u001b[0m\u001b[0m\n",
            "\u001b[0;32m/usr/local/lib/python3.10/dist-packages/ipykernel/kernelbase.py\u001b[0m in \u001b[0;36mraw_input\u001b[0;34m(self, prompt)\u001b[0m\n\u001b[1;32m    849\u001b[0m                 \u001b[0;34m\"raw_input was called, but this frontend does not support input requests.\"\u001b[0m\u001b[0;34m\u001b[0m\u001b[0;34m\u001b[0m\u001b[0m\n\u001b[1;32m    850\u001b[0m             )\n\u001b[0;32m--> 851\u001b[0;31m         return self._input_request(str(prompt),\n\u001b[0m\u001b[1;32m    852\u001b[0m             \u001b[0mself\u001b[0m\u001b[0;34m.\u001b[0m\u001b[0m_parent_ident\u001b[0m\u001b[0;34m,\u001b[0m\u001b[0;34m\u001b[0m\u001b[0;34m\u001b[0m\u001b[0m\n\u001b[1;32m    853\u001b[0m             \u001b[0mself\u001b[0m\u001b[0;34m.\u001b[0m\u001b[0m_parent_header\u001b[0m\u001b[0;34m,\u001b[0m\u001b[0;34m\u001b[0m\u001b[0;34m\u001b[0m\u001b[0m\n",
            "\u001b[0;32m/usr/local/lib/python3.10/dist-packages/ipykernel/kernelbase.py\u001b[0m in \u001b[0;36m_input_request\u001b[0;34m(self, prompt, ident, parent, password)\u001b[0m\n\u001b[1;32m    893\u001b[0m             \u001b[0;32mexcept\u001b[0m \u001b[0mKeyboardInterrupt\u001b[0m\u001b[0;34m:\u001b[0m\u001b[0;34m\u001b[0m\u001b[0;34m\u001b[0m\u001b[0m\n\u001b[1;32m    894\u001b[0m                 \u001b[0;31m# re-raise KeyboardInterrupt, to truncate traceback\u001b[0m\u001b[0;34m\u001b[0m\u001b[0;34m\u001b[0m\u001b[0m\n\u001b[0;32m--> 895\u001b[0;31m                 \u001b[0;32mraise\u001b[0m \u001b[0mKeyboardInterrupt\u001b[0m\u001b[0;34m(\u001b[0m\u001b[0;34m\"Interrupted by user\"\u001b[0m\u001b[0;34m)\u001b[0m \u001b[0;32mfrom\u001b[0m \u001b[0;32mNone\u001b[0m\u001b[0;34m\u001b[0m\u001b[0;34m\u001b[0m\u001b[0m\n\u001b[0m\u001b[1;32m    896\u001b[0m             \u001b[0;32mexcept\u001b[0m \u001b[0mException\u001b[0m \u001b[0;32mas\u001b[0m \u001b[0me\u001b[0m\u001b[0;34m:\u001b[0m\u001b[0;34m\u001b[0m\u001b[0;34m\u001b[0m\u001b[0m\n\u001b[1;32m    897\u001b[0m                 \u001b[0mself\u001b[0m\u001b[0;34m.\u001b[0m\u001b[0mlog\u001b[0m\u001b[0;34m.\u001b[0m\u001b[0mwarning\u001b[0m\u001b[0;34m(\u001b[0m\u001b[0;34m\"Invalid Message:\"\u001b[0m\u001b[0;34m,\u001b[0m \u001b[0mexc_info\u001b[0m\u001b[0;34m=\u001b[0m\u001b[0;32mTrue\u001b[0m\u001b[0;34m)\u001b[0m\u001b[0;34m\u001b[0m\u001b[0;34m\u001b[0m\u001b[0m\n",
            "\u001b[0;31mKeyboardInterrupt\u001b[0m: Interrupted by user"
          ]
        }
      ]
    },
    {
      "cell_type": "code",
      "source": [
        "# Cell 10: Extract parishes from the directory page\n",
        "\n",
        "def extract_parishes(directory_url):\n",
        "    \"\"\"\n",
        "    Extracts parish information from the directory page.\n",
        "    Returns a list of dictionaries containing parish details.\n",
        "    \"\"\"\n",
        "    try:\n",
        "        soup = get_soup(directory_url)\n",
        "        if not soup:\n",
        "            return []\n",
        "\n",
        "        parishes = []\n",
        "        # This is a generic approach and might need adjustment for specific diocese websites\n",
        "        for link in soup.find_all('a', href=True):\n",
        "            href = link['href']\n",
        "            text = link.text.strip()\n",
        "            if text and any(term in text.lower() for term in ['church', 'parish', 'cathedral']):\n",
        "                parish_url = urljoin(directory_url, href)\n",
        "                parishes.append({\n",
        "                    'Parish Name': text,\n",
        "                    'Parish Website': parish_url,\n",
        "                    'Address': ''  # We might need to visit each parish page to get the address\n",
        "                })\n",
        "\n",
        "        return parishes\n",
        "    except Exception as e:\n",
        "        logging.error(f\"Error extracting parishes from {directory_url}: {e}\")\n",
        "        return []\n",
        "\n",
        "# Process each diocese and extract parishes\n",
        "cursor.execute('SELECT Name, Website FROM Dioceses')\n",
        "dioceses_db = cursor.fetchall()\n",
        "\n",
        "for diocese in dioceses_db:\n",
        "    diocese_name, diocese_url = diocese\n",
        "    print(f\"\\nProcessing Diocese: {diocese_name}\")\n",
        "\n",
        "    directory_url = find_parish_directory(diocese_url)\n",
        "    if directory_url:\n",
        "        print(f\"Found parish directory at: {directory_url}\")\n",
        "        parishes = extract_parishes(directory_url)\n",
        "        print(f\"Extracted {len(parishes)} parishes.\")\n",
        "\n",
        "        # Display sample of parishes\n",
        "        print(\"\\nSample of parishes (up to 5):\")\n",
        "        for parish in parishes[:5]:\n",
        "            print(f\"- {parish['Parish Name']}: {parish['Parish Website']}\")\n",
        "\n",
        "        # Ask user if they want to save this data\n",
        "        save_data = input(\"Do you want to save this parish data? (yes/no): \").lower().strip()\n",
        "        if save_data == 'yes':\n",
        "            try:\n",
        "                cursor.executemany('''\n",
        "                    INSERT INTO Parishes (Diocese_ID, Parish_Name, Parish_Website, Address)\n",
        "                    SELECT Dioceses.rowid, ?, ?, ?\n",
        "                    FROM Dioceses\n",
        "                    WHERE Dioceses.Name = ?\n",
        "                ''', [(parish['Parish Name'], parish['Parish Website'], parish['Address'], diocese_name) for parish in parishes])\n",
        "                conn.commit()\n",
        "                print(\"Parish data saved successfully.\")\n",
        "            except Exception as exc:\n",
        "                logging.error(f'Error saving parish data for {diocese_name}: {exc}')\n",
        "                print(f\"Error saving data. See log for details.\")\n",
        "    else:\n",
        "        print(\"Could not find parish directory. Skipping parish extraction for this diocese.\")\n",
        "\n",
        "    # Ask user if they want to proceed\n",
        "    user_input = input(\"Do you want to proceed to the next diocese? (yes/no): \").lower().strip()\n",
        "    if user_input != 'yes':\n",
        "        print(\"Stopping the process.\")\n",
        "        break\n",
        "\n",
        "print(\"Diocese and parish processing completed.\")\n",
        "conn.close()"
      ],
      "metadata": {
        "id": "gLOQABo_s3Cr"
      },
      "execution_count": null,
      "outputs": []
    },
    {
      "cell_type": "code",
      "source": [
        "# Cell 11: Finalize and close the database connection\n",
        "\n",
        "# Optional: Export the database to a DataFrame\n",
        "parishes_final_df = pd.read_sql_query('''\n",
        "    SELECT Parishes.Parish_Name, Parishes.Parish_Website, Dioceses.Name as Diocese,\n",
        "           Parishes.Address, Parishes.Adoration_Hours, Parishes.Reconciliation_Hours\n",
        "    FROM Parishes\n",
        "    JOIN Dioceses ON Parishes.Diocese_ID = Dioceses.id\n",
        "''', conn)\n",
        "\n",
        "# Display a sample of the final data\n",
        "parishes_final_df.head()\n",
        "\n",
        "# Close the database connection\n",
        "conn.close()"
      ],
      "metadata": {
        "id": "PAVqpcWbITID"
      },
      "execution_count": null,
      "outputs": []
    }
  ]
}