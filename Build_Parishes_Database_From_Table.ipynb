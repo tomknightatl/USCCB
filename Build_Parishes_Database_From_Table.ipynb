{
  "nbformat": 4,
  "nbformat_minor": 0,
  "metadata": {
    "colab": {
      "provenance": [],
      "authorship_tag": "ABX9TyNzkkXNbA/h9BGjWhaVj3e0",
      "include_colab_link": true
    },
    "kernelspec": {
      "name": "python3",
      "display_name": "Python 3"
    },
    "language_info": {
      "name": "python"
    }
  },
  "cells": [
    {
      "cell_type": "markdown",
      "metadata": {
        "id": "view-in-github",
        "colab_type": "text"
      },
      "source": [
        "<a href=\"https://colab.research.google.com/github/tomknightatl/USCCB/blob/main/Build_Parishes_Database_From_Table.ipynb\" target=\"_parent\"><img src=\"https://colab.research.google.com/assets/colab-badge.svg\" alt=\"Open In Colab\"/></a>"
      ]
    },
    {
      "cell_type": "code",
      "execution_count": 1,
      "metadata": {
        "id": "qIm-qDFgrqK3"
      },
      "outputs": [],
      "source": [
        "# Import required libraries\n",
        "import requests\n",
        "from bs4 import BeautifulSoup\n",
        "import pandas as pd\n",
        "import sqlite3"
      ]
    },
    {
      "cell_type": "code",
      "source": [
        "# Cell 1: Fetch the webpage content\n",
        "url = \"https://archatl.com/parishes/parish-directory/\"\n",
        "response = requests.get(url)\n",
        "soup = BeautifulSoup(response.content, 'html.parser')"
      ],
      "metadata": {
        "id": "KIVTfVlOrtIe"
      },
      "execution_count": 2,
      "outputs": []
    },
    {
      "cell_type": "code",
      "source": [
        "# Cell 2: Extract the table data\n",
        "table = soup.find('table', {'id': 'table_1'})\n",
        "rows = table.find_all('tr')\n",
        "\n",
        "data = []\n",
        "for row in rows[1:]:  # Skip the header row\n",
        "    cols = row.find_all('td')\n",
        "    row_data = [col.text.strip() for col in cols[:-1]]  # Extract all columns except the last one\n",
        "\n",
        "    # Extract the hyperlink from the last column\n",
        "    web_col = cols[-1]\n",
        "    link = web_col.find('a')\n",
        "    if link:\n",
        "        row_data.append(link.get('href'))\n",
        "    else:\n",
        "        row_data.append('')\n",
        "\n",
        "    data.append(row_data)"
      ],
      "metadata": {
        "id": "xlQd-ThXruqG"
      },
      "execution_count": 7,
      "outputs": []
    },
    {
      "cell_type": "code",
      "source": [
        "# Cell 3: Create a DataFrame\n",
        "columns = ['Name', 'Status', 'Deanery', 'EST', 'Street Address', 'City', 'State', 'Zipcode', 'Phone Number', 'Web']\n",
        "df = pd.DataFrame(data, columns=columns)"
      ],
      "metadata": {
        "id": "JTLi8tkhrwTd"
      },
      "execution_count": 8,
      "outputs": []
    },
    {
      "cell_type": "code",
      "source": [
        "# Cell 4: Create SQLite database and store the data\n",
        "conn = sqlite3.connect('parishes.db')\n",
        "df.to_sql('parishes', conn, if_exists='replace', index=False)"
      ],
      "metadata": {
        "colab": {
          "base_uri": "https://localhost:8080/"
        },
        "id": "0wGDvWK0rx2r",
        "outputId": "a8bfdeac-15ed-4a3d-822f-72fa8980729b"
      },
      "execution_count": 9,
      "outputs": [
        {
          "output_type": "execute_result",
          "data": {
            "text/plain": [
              "116"
            ]
          },
          "metadata": {},
          "execution_count": 9
        }
      ]
    },
    {
      "cell_type": "code",
      "source": [
        "# Cell 5: Verify the data in the database\n",
        "query = \"SELECT * FROM parishes LIMIT 5\"\n",
        "result = pd.read_sql_query(query, conn)\n",
        "print(result)\n",
        "\n",
        "# Close the database connection\n",
        "conn.close()\n",
        "\n",
        "print(\"Data extraction and storage complete.\")"
      ],
      "metadata": {
        "colab": {
          "base_uri": "https://localhost:8080/"
        },
        "id": "6jos3am4rzs0",
        "outputId": "9388c849-edfc-4304-ca87-e880109681bc"
      },
      "execution_count": 10,
      "outputs": [
        {
          "output_type": "stream",
          "name": "stdout",
          "text": [
            "                           Name           Status          Deanery   EST  \\\n",
            "0                    All Saints           Parish      North Metro  1977   \n",
            "1         Capilla Santo Domingo  Pastoral Center        Northeast  2014   \n",
            "2        Capilla San Juan Diego  Pastoral Center        Northwest         \n",
            "3  Cathedral of Christ the King        Cathedral          Central  1936   \n",
            "4               Christ Our Hope           Parish  Northeast Metro  1984   \n",
            "\n",
            "            Street Address      City State Zipcode  Phone Number  \\\n",
            "0   2443 Mount Vernon Road  Dunwoody    GA   30338  770-393-3255   \n",
            "1          427 Cash Street  Cornelia    GA   30531  706-754-4518   \n",
            "2        1609 E Morris St.    Dalton    GA   30720  706-278-3107   \n",
            "3  2699 Peachtree Road, NE   Atlanta    GA   30305  404-233-2145   \n",
            "4       1786 Wellborn Road  Lithonia    GA   30058  770-482-5017   \n",
            "\n",
            "                                 Web  \n",
            "0  http://www.allsaintsdunwoody.org/  \n",
            "1                                     \n",
            "2                                     \n",
            "3           https://cathedralctk.com  \n",
            "4    http://www.christourhopeatl.org  \n",
            "Data extraction and storage complete.\n"
          ]
        }
      ]
    }
  ]
}