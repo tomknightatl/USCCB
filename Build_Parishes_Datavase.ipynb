{
  "nbformat": 4,
  "nbformat_minor": 0,
  "metadata": {
    "colab": {
      "provenance": [],
      "authorship_tag": "ABX9TyOSqNBz6iW0Zw7TkLLNug0v",
      "include_colab_link": true
    },
    "kernelspec": {
      "name": "python3",
      "display_name": "Python 3"
    },
    "language_info": {
      "name": "python"
    }
  },
  "cells": [
    {
      "cell_type": "markdown",
      "metadata": {
        "id": "view-in-github",
        "colab_type": "text"
      },
      "source": [
        "<a href=\"https://colab.research.google.com/github/tomknightatl/USCCB/blob/main/Build_Parishes_Datavase.ipynb\" target=\"_parent\"><img src=\"https://colab.research.google.com/assets/colab-badge.svg\" alt=\"Open In Colab\"/></a>"
      ]
    },
    {
      "cell_type": "code",
      "source": [
        "import os\n",
        "\n",
        "# Define the filename for the Chrome installer\n",
        "chrome_installer_filename = \"google-chrome-stable_current_amd64.deb\"\n",
        "\n",
        "# Check if the file already exists before downloading\n",
        "if not os.path.exists(chrome_installer_filename):\n",
        "    # Download the Google Chrome installer if it doesn't exist\n",
        "    !wget https://dl.google.com/linux/direct/google-chrome-stable_current_amd64.deb\n",
        "\n",
        "# Install the downloaded package\n",
        "!dpkg -i {chrome_installer_filename}\n",
        "\n",
        "# Fix any dependency issues\n",
        "!apt-get -f install -y\n",
        "\n",
        "# Install webdriver-manager\n",
        "!pip install webdriver-manager\n",
        "\n",
        "# Set up Selenium with Chrome\n",
        "from selenium import webdriver\n",
        "from selenium.webdriver.chrome.service import Service\n",
        "from webdriver_manager.chrome import ChromeDriverManager\n",
        "\n",
        "options = webdriver.ChromeOptions()\n",
        "options.add_argument('--headless')  # Run in headless mode\n",
        "options.add_argument('--no-sandbox')\n",
        "options.add_argument('--disable-dev-shm-usage')\n",
        "\n",
        "service = Service(ChromeDriverManager().install())\n",
        "driver = webdriver.Chrome(service=service, options=options)"
      ],
      "metadata": {
        "colab": {
          "base_uri": "https://localhost:8080/"
        },
        "id": "YL8OWWivCv9l",
        "outputId": "546c909b-5680-44c0-fac0-be2ced313c80"
      },
      "execution_count": 7,
      "outputs": [
        {
          "output_type": "stream",
          "name": "stdout",
          "text": [
            "(Reading database ... \r(Reading database ... 5%\r(Reading database ... 10%\r(Reading database ... 15%\r(Reading database ... 20%\r(Reading database ... 25%\r(Reading database ... 30%\r(Reading database ... 35%\r(Reading database ... 40%\r(Reading database ... 45%\r(Reading database ... 50%\r(Reading database ... 55%\r(Reading database ... 60%\r(Reading database ... 65%\r(Reading database ... 70%\r(Reading database ... 75%\r(Reading database ... 80%\r(Reading database ... 85%\r(Reading database ... 90%\r(Reading database ... 95%\r(Reading database ... 100%\r(Reading database ... 123754 files and directories currently installed.)\n",
            "Preparing to unpack google-chrome-stable_current_amd64.deb ...\n",
            "Unpacking google-chrome-stable (129.0.6668.58-1) over (129.0.6668.58-1) ...\n",
            "Setting up google-chrome-stable (129.0.6668.58-1) ...\n",
            "Processing triggers for man-db (2.10.2-1) ...\n",
            "Reading package lists... Done\n",
            "Building dependency tree... Done\n",
            "Reading state information... Done\n",
            "0 upgraded, 0 newly installed, 0 to remove and 49 not upgraded.\n",
            "Requirement already satisfied: webdriver-manager in /usr/local/lib/python3.10/dist-packages (4.0.2)\n",
            "Requirement already satisfied: requests in /usr/local/lib/python3.10/dist-packages (from webdriver-manager) (2.32.3)\n",
            "Requirement already satisfied: python-dotenv in /usr/local/lib/python3.10/dist-packages (from webdriver-manager) (1.0.1)\n",
            "Requirement already satisfied: packaging in /usr/local/lib/python3.10/dist-packages (from webdriver-manager) (24.1)\n",
            "Requirement already satisfied: charset-normalizer<4,>=2 in /usr/local/lib/python3.10/dist-packages (from requests->webdriver-manager) (3.3.2)\n",
            "Requirement already satisfied: idna<4,>=2.5 in /usr/local/lib/python3.10/dist-packages (from requests->webdriver-manager) (3.10)\n",
            "Requirement already satisfied: urllib3<3,>=1.21.1 in /usr/local/lib/python3.10/dist-packages (from requests->webdriver-manager) (1.26.20)\n",
            "Requirement already satisfied: certifi>=2017.4.17 in /usr/local/lib/python3.10/dist-packages (from requests->webdriver-manager) (2024.8.30)\n"
          ]
        }
      ]
    },
    {
      "cell_type": "code",
      "source": [
        "# Cell 1\n",
        "import time\n",
        "from selenium import webdriver\n",
        "from selenium.webdriver.common.by import By\n",
        "from selenium.webdriver.support.ui import WebDriverWait\n",
        "from selenium.webdriver.support import expected_conditions as EC\n",
        "from selenium.webdriver.chrome.service import Service\n",
        "from webdriver_manager.chrome import ChromeDriverManager\n",
        "import sqlite3\n"
      ],
      "metadata": {
        "id": "BmFflVph3fii"
      },
      "execution_count": 8,
      "outputs": []
    },
    {
      "cell_type": "code",
      "source": [
        "# Cell 3\n",
        "# Fetch the web page\n",
        "url = \"https://archatl.com/parishes/find-a-parish/\"\n",
        "driver.get(url)\n",
        "\n",
        "# Wait for the content to load\n",
        "wait = WebDriverWait(driver, 10)\n",
        "wait.until(EC.presence_of_element_located((By.CSS_SELECTOR, 'span[data-bind=\"html:$data.title\"]')))\n",
        "\n",
        "# Give it a little more time for all elements to load\n",
        "time.sleep(500)"
      ],
      "metadata": {
        "id": "l7Ya8X4Y07sx"
      },
      "execution_count": 9,
      "outputs": []
    },
    {
      "cell_type": "code",
      "source": [
        "# Cell 4\n",
        "# Extract parish information\n",
        "parishes = []\n",
        "elements = driver.find_elements(By.CSS_SELECTOR, 'span[data-bind=\"html:$data.title\"]')\n",
        "\n",
        "for element in elements:\n",
        "    parish_info = element.text.strip()\n",
        "    parts = parish_info.split(',')\n",
        "    if len(parts) >= 2:\n",
        "        name = ','.join(parts[:-1]).strip()  # Join all parts except the last one\n",
        "        city = parts[-1].strip()\n",
        "        parishes.append((name, city))\n",
        "        print(f\"Parsed: Name: {name}, City: {city}\")\n",
        "    else:\n",
        "        print(f\"Skipping invalid entry: {parish_info}\")\n",
        "\n",
        "print(f\"\\nTotal parishes found: {len(parishes)}\")\n",
        "\n",
        "# Close the browser\n",
        "driver.quit()"
      ],
      "metadata": {
        "colab": {
          "base_uri": "https://localhost:8080/"
        },
        "id": "zcMdl0vb-fZP",
        "outputId": "9c2139e4-5302-4e8f-f0b9-c1733fa394ec"
      },
      "execution_count": 10,
      "outputs": [
        {
          "output_type": "stream",
          "name": "stdout",
          "text": [
            "Parsed: Name: Saint Katharine Drexel Mission, City: Trenton\n",
            "Parsed: Name: Our Lady of the Mount, City: Lookout Mountain\n",
            "Parsed: Name: Saint Gerard Majella, City: Fort Oglethorpe\n",
            "Skipping invalid entry: El Señor es mi Pastor\n",
            "Parsed: Name: Saint Joseph, City: Dalton\n",
            "Skipping invalid entry: Capilla San Juan Diego\n",
            "Parsed: Name: Saint Toribio Romo Mission, City: Chatsworth\n",
            "Parsed: Name: Saint Clement, City: Calhoun\n",
            "Parsed: Name: Saint Mary, City: Rome\n",
            "Parsed: Name: Saint Bernadette, City: Cedartown\n",
            "\n",
            "Total parishes found: 8\n"
          ]
        }
      ]
    },
    {
      "cell_type": "code",
      "source": [
        "# Cell 5\n",
        "# Create SQLite database and table\n",
        "conn = sqlite3.connect('parishes.db')\n",
        "cursor = conn.cursor()\n",
        "cursor.execute('''\n",
        "    CREATE TABLE IF NOT EXISTS parishes (\n",
        "        id INTEGER PRIMARY KEY,\n",
        "        name TEXT,\n",
        "        city TEXT\n",
        "    )\n",
        "''')\n"
      ],
      "metadata": {
        "colab": {
          "base_uri": "https://localhost:8080/"
        },
        "id": "1hArCj0C0-jf",
        "outputId": "3d8bd89b-c319-4309-b60d-1fe3a836cf51"
      },
      "execution_count": 11,
      "outputs": [
        {
          "output_type": "execute_result",
          "data": {
            "text/plain": [
              "<sqlite3.Cursor at 0x7c7f93243740>"
            ]
          },
          "metadata": {},
          "execution_count": 11
        }
      ]
    },
    {
      "cell_type": "code",
      "source": [
        "# Cell 6\n",
        "# Insert data into the database\n",
        "cursor.executemany('INSERT INTO parishes (name, city) VALUES (?, ?)', parishes)\n",
        "conn.commit()"
      ],
      "metadata": {
        "id": "kfuU4Spb1Egy"
      },
      "execution_count": 12,
      "outputs": []
    },
    {
      "cell_type": "code",
      "source": [
        "# Cell 7\n",
        "# Verify the data in the database\n",
        "cursor.execute('SELECT * FROM parishes')\n",
        "rows = cursor.fetchall()\n",
        "for row in rows[:10]:  # Print first 10 for brevity\n",
        "    print(row)"
      ],
      "metadata": {
        "colab": {
          "base_uri": "https://localhost:8080/"
        },
        "id": "aXnzhMjQA3a_",
        "outputId": "d6bce2b7-952d-4830-d61b-3ddf8105949d"
      },
      "execution_count": 13,
      "outputs": [
        {
          "output_type": "stream",
          "name": "stdout",
          "text": [
            "(1, 'Saint Katharine Drexel Mission', 'Trenton')\n",
            "(2, 'Our Lady of the Mount', 'Lookout Mountain')\n",
            "(3, 'Saint Gerard Majella', 'Fort Oglethorpe')\n",
            "(4, 'Saint Joseph', 'Dalton')\n",
            "(5, 'Saint Toribio Romo Mission', 'Chatsworth')\n",
            "(6, 'Saint Clement', 'Calhoun')\n",
            "(7, 'Saint Mary', 'Rome')\n",
            "(8, 'Saint Bernadette', 'Cedartown')\n"
          ]
        }
      ]
    },
    {
      "cell_type": "code",
      "source": [
        "# Cell 8\n",
        "# Close the database connection\n",
        "conn.close()\n",
        "\n",
        "print(f\"Total parishes added to the database: {len(parishes)}\")"
      ],
      "metadata": {
        "colab": {
          "base_uri": "https://localhost:8080/"
        },
        "id": "lBFfo3B3Cm0p",
        "outputId": "2f438b4d-eb1c-4eeb-f024-e1652a146895"
      },
      "execution_count": 14,
      "outputs": [
        {
          "output_type": "stream",
          "name": "stdout",
          "text": [
            "Total parishes added to the database: 8\n"
          ]
        }
      ]
    },
    {
      "cell_type": "code",
      "source": [
        "# Cell 9\n",
        "# Quit the driver after use\n",
        "driver.quit()"
      ],
      "metadata": {
        "colab": {
          "base_uri": "https://localhost:8080/"
        },
        "id": "ev927MmoHA14",
        "outputId": "04379ed6-828d-4ab2-e108-54b74f52591e"
      },
      "execution_count": 15,
      "outputs": [
        {
          "output_type": "stream",
          "name": "stderr",
          "text": [
            "WARNING:urllib3.connectionpool:Retrying (Retry(total=2, connect=None, read=None, redirect=None, status=None)) after connection broken by 'NewConnectionError('<urllib3.connection.HTTPConnection object at 0x7c7f9324d810>: Failed to establish a new connection: [Errno 111] Connection refused')': /session/9b4104cd668e255b09ca60d00a08f8ca\n",
            "WARNING:urllib3.connectionpool:Retrying (Retry(total=1, connect=None, read=None, redirect=None, status=None)) after connection broken by 'NewConnectionError('<urllib3.connection.HTTPConnection object at 0x7c7f9324ed40>: Failed to establish a new connection: [Errno 111] Connection refused')': /session/9b4104cd668e255b09ca60d00a08f8ca\n",
            "WARNING:urllib3.connectionpool:Retrying (Retry(total=0, connect=None, read=None, redirect=None, status=None)) after connection broken by 'NewConnectionError('<urllib3.connection.HTTPConnection object at 0x7c7f9324dea0>: Failed to establish a new connection: [Errno 111] Connection refused')': /session/9b4104cd668e255b09ca60d00a08f8ca\n"
          ]
        }
      ]
    },
    {
      "cell_type": "code",
      "source": [
        "# Expected Output for https://archatl.com/parishes/find-a-parish/:\n",
        "# # [(1, 'All Saints', 'Dunwoody', '2443 Mount Vernon Road, Dunwoody, GA 30338', 'http://www.allsaintscatholic.org'),\n",
        "#  (2, 'Annunciation', 'Milledgeville', '171 South Jefferson Street, Milledgeville, GA 31061', 'https://www.annunciationmilledgeville.org/'),\n",
        "#  (3, 'Ascension', 'Brookhaven', '2989 Lavista Road, Brookhaven, GA 30329', 'http://www.ascca.net'),\n",
        "#  (4, 'Asian Pacific Ministry', 'Doraville', '2699 Shallowford Road, Doraville, GA 30360', 'N/A'),\n",
        "#  (5, 'Basilica of the Sacred Heart of Jesus', 'Atlanta', '353 Peachtree Street NE, Atlanta, GA 30308', 'http://www.sacredheartatlanta.org')]"
      ],
      "metadata": {
        "id": "IfCnDF171E7y"
      },
      "execution_count": null,
      "outputs": []
    }
  ]
}