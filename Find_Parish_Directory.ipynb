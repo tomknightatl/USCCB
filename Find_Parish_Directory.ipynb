{
  "nbformat": 4,
  "nbformat_minor": 0,
  "metadata": {
    "colab": {
      "provenance": [],
      "authorship_tag": "ABX9TyP5oq6TgyBuYSX6PChmoxUe",
      "include_colab_link": true
    },
    "kernelspec": {
      "name": "python3",
      "display_name": "Python 3"
    },
    "language_info": {
      "name": "python"
    }
  },
  "cells": [
    {
      "cell_type": "markdown",
      "metadata": {
        "id": "view-in-github",
        "colab_type": "text"
      },
      "source": [
        "<a href=\"https://colab.research.google.com/github/tomknightatl/USCCB/blob/main/Find_Parish_Directory.ipynb\" target=\"_parent\"><img src=\"https://colab.research.google.com/assets/colab-badge.svg\" alt=\"Open In Colab\"/></a>"
      ]
    },
    {
      "cell_type": "code",
      "execution_count": 10,
      "metadata": {
        "id": "rXNwVrnLxqHJ"
      },
      "outputs": [],
      "source": [
        "# Parish Scraper Jupyter Notebook\n",
        "\n",
        "import requests\n",
        "from bs4 import BeautifulSoup\n",
        "import sqlite3\n",
        "import re"
      ]
    },
    {
      "cell_type": "code",
      "source": [
        "# Cell 1: Import required libraries and fetch the main page\n",
        "print(\"Cell 1: Importing libraries and fetching main page\")\n",
        "url = \"https://archatl.com/\"\n",
        "response = requests.get(url)\n",
        "soup = BeautifulSoup(response.content, 'html.parser')"
      ],
      "metadata": {
        "colab": {
          "base_uri": "https://localhost:8080/"
        },
        "id": "9xjtTXfgxwOq",
        "outputId": "5efe7821-60fc-4083-bfdc-790c755091a4"
      },
      "execution_count": 11,
      "outputs": [
        {
          "output_type": "stream",
          "name": "stdout",
          "text": [
            "Cell 1: Importing libraries and fetching main page\n"
          ]
        }
      ]
    },
    {
      "cell_type": "code",
      "source": [
        "# Cell 2: Find the URL for the parish listing page\n",
        "print(\"\\nCell 2: Finding the URL for the parish listing page\")\n",
        "parish_link = soup.find('a', text=re.compile('Find a Parish'))\n",
        "if parish_link:\n",
        "    parish_url = parish_link['href']\n",
        "    print(f\"Parish listing URL: {parish_url}\")\n",
        "else:\n",
        "    print(\"Parish listing URL not found\")\n",
        "    parish_url = None"
      ],
      "metadata": {
        "colab": {
          "base_uri": "https://localhost:8080/"
        },
        "id": "B50-0qSsxyhH",
        "outputId": "39569495-44a9-4028-f372-de2c798d6223"
      },
      "execution_count": 12,
      "outputs": [
        {
          "output_type": "stream",
          "name": "stdout",
          "text": [
            "\n",
            "Cell 2: Finding the URL for the parish listing page\n",
            "Parish listing URL: https://archatl.com/parishes/find-a-parish/\n"
          ]
        },
        {
          "output_type": "stream",
          "name": "stderr",
          "text": [
            "<ipython-input-12-ca11d5458652>:3: DeprecationWarning: The 'text' argument to find()-type methods is deprecated. Use 'string' instead.\n",
            "  parish_link = soup.find('a', text=re.compile('Find a Parish'))\n"
          ]
        }
      ]
    },
    {
      "cell_type": "code",
      "source": [
        "# Cell 3: Fetch and parse the parish listing page\n",
        "print(\"\\nCell 3: Fetching and parsing the parish listing page\")\n",
        "if parish_url:\n",
        "    parish_response = requests.get(parish_url)\n",
        "    parish_soup = BeautifulSoup(parish_response.content, 'html.parser')\n",
        "    print(\"Parish listing page fetched successfully\")\n",
        "else:\n",
        "    print(\"Cannot fetch parish listing page\")\n",
        "    parish_soup = None"
      ],
      "metadata": {
        "colab": {
          "base_uri": "https://localhost:8080/"
        },
        "id": "kMcje622x0Cn",
        "outputId": "8662fe06-1ded-459e-ee3c-8b2e2737c86b"
      },
      "execution_count": 13,
      "outputs": [
        {
          "output_type": "stream",
          "name": "stdout",
          "text": [
            "\n",
            "Cell 3: Fetching and parsing the parish listing page\n",
            "Parish listing page fetched successfully\n"
          ]
        }
      ]
    },
    {
      "cell_type": "code",
      "source": [
        "# Cell 4: Extract parish information and store in SQLite database\n",
        "print(\"\\nCell 4: Extracting parish information and storing in SQLite database\")\n",
        "conn = sqlite3.connect('parishes.db')\n",
        "cursor = conn.cursor()\n",
        "\n",
        "# Create table\n",
        "cursor.execute('''CREATE TABLE IF NOT EXISTS parishes\n",
        "                  (name TEXT, address TEXT, url TEXT)''')\n",
        "\n",
        "if parish_soup:\n",
        "    # Try different selectors to find parish information\n",
        "    parishes = parish_soup.find_all('div', class_='parish-item')\n",
        "    if not parishes:\n",
        "        parishes = parish_soup.find_all('div', class_='parish')\n",
        "    if not parishes:\n",
        "        parishes = parish_soup.find_all('div', class_=re.compile('parish'))\n",
        "\n",
        "    print(f\"Found {len(parishes)} potential parish elements\")\n",
        "\n",
        "    for parish in parishes:\n",
        "        name = parish.find('h2')\n",
        "        if name:\n",
        "            name = name.text.strip()\n",
        "        else:\n",
        "            name = \"Name not found\"\n",
        "\n",
        "        address = parish.find('p', class_=re.compile('address'))\n",
        "        if address:\n",
        "            address = address.text.strip()\n",
        "        else:\n",
        "            address = \"Address not found\"\n",
        "\n",
        "        url = parish.find('a', href=re.compile('http'))\n",
        "        if url:\n",
        "            url = url['href']\n",
        "        else:\n",
        "            url = \"URL not found\"\n",
        "\n",
        "        cursor.execute(\"INSERT INTO parishes VALUES (?, ?, ?)\", (name, address, url))\n",
        "\n",
        "    conn.commit()\n",
        "    print(f\"Inserted {len(parishes)} parishes into the database\")\n",
        "else:\n",
        "    print(\"No parish information to extract\")"
      ],
      "metadata": {
        "colab": {
          "base_uri": "https://localhost:8080/"
        },
        "id": "rrzgbzPpx1VA",
        "outputId": "6209acc9-01d1-4f69-c788-5cc3ce1d17df"
      },
      "execution_count": 15,
      "outputs": [
        {
          "output_type": "stream",
          "name": "stdout",
          "text": [
            "\n",
            "Cell 4: Extracting parish information and storing in SQLite database\n",
            "Found 0 potential parish elements\n",
            "Inserted 0 parishes into the database\n"
          ]
        }
      ]
    },
    {
      "cell_type": "code",
      "source": [
        "# Cell 5: Verify the data in the SQLite database\n",
        "print(\"\\nCell 5: Verifying the data in the SQLite database\")\n",
        "cursor.execute(\"SELECT * FROM parishes LIMIT 5\")\n",
        "rows = cursor.fetchall()\n",
        "for row in rows:\n",
        "    print(row)\n",
        "\n",
        "conn.close()\n",
        "print(\"\\nDatabase connection closed\")"
      ],
      "metadata": {
        "colab": {
          "base_uri": "https://localhost:8080/"
        },
        "id": "_0Esqmfmx2kt",
        "outputId": "89ce9163-4ca6-44d2-8b6a-ef5d99ccfc8c"
      },
      "execution_count": 6,
      "outputs": [
        {
          "output_type": "stream",
          "name": "stdout",
          "text": [
            "\n",
            "First 5 links:\n",
            "https://lifeofthechurch.com/donate/\n",
            "https://archatl.com/parishes/find-a-parish/\n",
            "https://archatl.com/schools/find-a-school/\n",
            "https://archatl.com/about/events-calendar/\n",
            "https://archatl.com/offices/human-resources/job-openings/\n"
          ]
        }
      ]
    }
  ]
}