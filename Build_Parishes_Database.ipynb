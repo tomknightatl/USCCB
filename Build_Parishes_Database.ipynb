{
  "nbformat": 4,
  "nbformat_minor": 0,
  "metadata": {
    "colab": {
      "provenance": [],
      "authorship_tag": "ABX9TyMNpBfRpia/H9TMb4vCWLrH",
      "include_colab_link": true
    },
    "kernelspec": {
      "name": "python3",
      "display_name": "Python 3"
    },
    "language_info": {
      "name": "python"
    }
  },
  "cells": [
    {
      "cell_type": "markdown",
      "metadata": {
        "id": "view-in-github",
        "colab_type": "text"
      },
      "source": [
        "<a href=\"https://colab.research.google.com/github/tomknightatl/USCCB/blob/main/Build_Parishes_Database.ipynb\" target=\"_parent\"><img src=\"https://colab.research.google.com/assets/colab-badge.svg\" alt=\"Open In Colab\"/></a>"
      ]
    },
    {
      "cell_type": "code",
      "source": [
        "# Cell 1\n",
        "import os\n",
        "\n",
        "# Define the filename for the Chrome installer\n",
        "chrome_installer_filename = \"google-chrome-stable_current_amd64.deb\"\n",
        "\n",
        "# Check if the file already exists before downloading\n",
        "if not os.path.exists(chrome_installer_filename):\n",
        "    # Download the Google Chrome installer if it doesn't exist\n",
        "    !wget https://dl.google.com/linux/direct/google-chrome-stable_current_amd64.deb\n",
        "\n",
        "# Install the downloaded package\n",
        "!dpkg -i {chrome_installer_filename}\n",
        "\n",
        "# Fix any dependency issues\n",
        "!apt-get -f install -y\n",
        "\n",
        "# Install webdriver-manager\n",
        "!pip install webdriver-manager\n",
        "\n",
        "# Install Selenium\n",
        "!pip install selenium"
      ],
      "metadata": {
        "colab": {
          "base_uri": "https://localhost:8080/"
        },
        "id": "YL8OWWivCv9l",
        "outputId": "8fdf82f8-de10-4f48-f905-62a8aec85a3a"
      },
      "execution_count": 1,
      "outputs": [
        {
          "output_type": "stream",
          "name": "stdout",
          "text": [
            "--2024-09-21 20:15:42--  https://dl.google.com/linux/direct/google-chrome-stable_current_amd64.deb\n",
            "Resolving dl.google.com (dl.google.com)... 172.217.204.93, 172.217.204.91, 172.217.204.190, ...\n",
            "Connecting to dl.google.com (dl.google.com)|172.217.204.93|:443... connected.\n",
            "HTTP request sent, awaiting response... 200 OK\n",
            "Length: 111913828 (107M) [application/x-debian-package]\n",
            "Saving to: ‘google-chrome-stable_current_amd64.deb’\n",
            "\n",
            "google-chrome-stabl 100%[===================>] 106.73M   178MB/s    in 0.6s    \n",
            "\n",
            "2024-09-21 20:15:43 (178 MB/s) - ‘google-chrome-stable_current_amd64.deb’ saved [111913828/111913828]\n",
            "\n",
            "Selecting previously unselected package google-chrome-stable.\n",
            "(Reading database ... 123599 files and directories currently installed.)\n",
            "Preparing to unpack google-chrome-stable_current_amd64.deb ...\n",
            "Unpacking google-chrome-stable (129.0.6668.58-1) ...\n",
            "\u001b[1mdpkg:\u001b[0m dependency problems prevent configuration of google-chrome-stable:\n",
            " google-chrome-stable depends on libvulkan1; however:\n",
            "  Package libvulkan1 is not installed.\n",
            "\n",
            "\u001b[1mdpkg:\u001b[0m error processing package google-chrome-stable (--install):\n",
            " dependency problems - leaving unconfigured\n",
            "Processing triggers for man-db (2.10.2-1) ...\n",
            "Errors were encountered while processing:\n",
            " google-chrome-stable\n",
            "Reading package lists... Done\n",
            "Building dependency tree... Done\n",
            "Reading state information... Done\n",
            "Correcting dependencies... Done\n",
            "The following additional packages will be installed:\n",
            "  libvulkan1 mesa-vulkan-drivers\n",
            "The following NEW packages will be installed:\n",
            "  libvulkan1 mesa-vulkan-drivers\n",
            "0 upgraded, 2 newly installed, 0 to remove and 49 not upgraded.\n",
            "1 not fully installed or removed.\n",
            "Need to get 10.9 MB of archives.\n",
            "After this operation, 51.3 MB of additional disk space will be used.\n",
            "Get:1 http://archive.ubuntu.com/ubuntu jammy/main amd64 libvulkan1 amd64 1.3.204.1-2 [128 kB]\n",
            "Get:2 http://archive.ubuntu.com/ubuntu jammy-updates/main amd64 mesa-vulkan-drivers amd64 23.2.1-1ubuntu3.1~22.04.2 [10.7 MB]\n",
            "Fetched 10.9 MB in 1s (21.7 MB/s)\n",
            "Selecting previously unselected package libvulkan1:amd64.\n",
            "(Reading database ... 123716 files and directories currently installed.)\n",
            "Preparing to unpack .../libvulkan1_1.3.204.1-2_amd64.deb ...\n",
            "Unpacking libvulkan1:amd64 (1.3.204.1-2) ...\n",
            "Selecting previously unselected package mesa-vulkan-drivers:amd64.\n",
            "Preparing to unpack .../mesa-vulkan-drivers_23.2.1-1ubuntu3.1~22.04.2_amd64.deb ...\n",
            "Unpacking mesa-vulkan-drivers:amd64 (23.2.1-1ubuntu3.1~22.04.2) ...\n",
            "Setting up libvulkan1:amd64 (1.3.204.1-2) ...\n",
            "Setting up mesa-vulkan-drivers:amd64 (23.2.1-1ubuntu3.1~22.04.2) ...\n",
            "Setting up google-chrome-stable (129.0.6668.58-1) ...\n",
            "update-alternatives: using /usr/bin/google-chrome-stable to provide /usr/bin/x-www-browser (x-www-browser) in auto mode\n",
            "update-alternatives: using /usr/bin/google-chrome-stable to provide /usr/bin/gnome-www-browser (gnome-www-browser) in auto mode\n",
            "update-alternatives: using /usr/bin/google-chrome-stable to provide /usr/bin/google-chrome (google-chrome) in auto mode\n",
            "Processing triggers for libc-bin (2.35-0ubuntu3.4) ...\n",
            "/sbin/ldconfig.real: /usr/local/lib/libur_loader.so.0 is not a symbolic link\n",
            "\n",
            "/sbin/ldconfig.real: /usr/local/lib/libtbbbind_2_0.so.3 is not a symbolic link\n",
            "\n",
            "/sbin/ldconfig.real: /usr/local/lib/libtbbbind.so.3 is not a symbolic link\n",
            "\n",
            "/sbin/ldconfig.real: /usr/local/lib/libtbbbind_2_5.so.3 is not a symbolic link\n",
            "\n",
            "/sbin/ldconfig.real: /usr/local/lib/libtbbmalloc_proxy.so.2 is not a symbolic link\n",
            "\n",
            "/sbin/ldconfig.real: /usr/local/lib/libtbbmalloc.so.2 is not a symbolic link\n",
            "\n",
            "/sbin/ldconfig.real: /usr/local/lib/libur_adapter_opencl.so.0 is not a symbolic link\n",
            "\n",
            "/sbin/ldconfig.real: /usr/local/lib/libtbb.so.12 is not a symbolic link\n",
            "\n",
            "/sbin/ldconfig.real: /usr/local/lib/libur_adapter_level_zero.so.0 is not a symbolic link\n",
            "\n",
            "Collecting webdriver-manager\n",
            "  Downloading webdriver_manager-4.0.2-py2.py3-none-any.whl.metadata (12 kB)\n",
            "Requirement already satisfied: requests in /usr/local/lib/python3.10/dist-packages (from webdriver-manager) (2.32.3)\n",
            "Collecting python-dotenv (from webdriver-manager)\n",
            "  Downloading python_dotenv-1.0.1-py3-none-any.whl.metadata (23 kB)\n",
            "Requirement already satisfied: packaging in /usr/local/lib/python3.10/dist-packages (from webdriver-manager) (24.1)\n",
            "Requirement already satisfied: charset-normalizer<4,>=2 in /usr/local/lib/python3.10/dist-packages (from requests->webdriver-manager) (3.3.2)\n",
            "Requirement already satisfied: idna<4,>=2.5 in /usr/local/lib/python3.10/dist-packages (from requests->webdriver-manager) (3.10)\n",
            "Requirement already satisfied: urllib3<3,>=1.21.1 in /usr/local/lib/python3.10/dist-packages (from requests->webdriver-manager) (2.0.7)\n",
            "Requirement already satisfied: certifi>=2017.4.17 in /usr/local/lib/python3.10/dist-packages (from requests->webdriver-manager) (2024.8.30)\n",
            "Downloading webdriver_manager-4.0.2-py2.py3-none-any.whl (27 kB)\n",
            "Downloading python_dotenv-1.0.1-py3-none-any.whl (19 kB)\n",
            "Installing collected packages: python-dotenv, webdriver-manager\n",
            "Successfully installed python-dotenv-1.0.1 webdriver-manager-4.0.2\n",
            "Collecting selenium\n",
            "  Downloading selenium-4.25.0-py3-none-any.whl.metadata (7.1 kB)\n",
            "Requirement already satisfied: urllib3<3,>=1.26 in /usr/local/lib/python3.10/dist-packages (from urllib3[socks]<3,>=1.26->selenium) (2.0.7)\n",
            "Collecting trio~=0.17 (from selenium)\n",
            "  Downloading trio-0.26.2-py3-none-any.whl.metadata (8.6 kB)\n",
            "Collecting trio-websocket~=0.9 (from selenium)\n",
            "  Downloading trio_websocket-0.11.1-py3-none-any.whl.metadata (4.7 kB)\n",
            "Requirement already satisfied: certifi>=2021.10.8 in /usr/local/lib/python3.10/dist-packages (from selenium) (2024.8.30)\n",
            "Requirement already satisfied: typing_extensions~=4.9 in /usr/local/lib/python3.10/dist-packages (from selenium) (4.12.2)\n",
            "Requirement already satisfied: websocket-client~=1.8 in /usr/local/lib/python3.10/dist-packages (from selenium) (1.8.0)\n",
            "Requirement already satisfied: attrs>=23.2.0 in /usr/local/lib/python3.10/dist-packages (from trio~=0.17->selenium) (24.2.0)\n",
            "Requirement already satisfied: sortedcontainers in /usr/local/lib/python3.10/dist-packages (from trio~=0.17->selenium) (2.4.0)\n",
            "Requirement already satisfied: idna in /usr/local/lib/python3.10/dist-packages (from trio~=0.17->selenium) (3.10)\n",
            "Collecting outcome (from trio~=0.17->selenium)\n",
            "  Downloading outcome-1.3.0.post0-py2.py3-none-any.whl.metadata (2.6 kB)\n",
            "Requirement already satisfied: sniffio>=1.3.0 in /usr/local/lib/python3.10/dist-packages (from trio~=0.17->selenium) (1.3.1)\n",
            "Requirement already satisfied: exceptiongroup in /usr/local/lib/python3.10/dist-packages (from trio~=0.17->selenium) (1.2.2)\n",
            "Collecting wsproto>=0.14 (from trio-websocket~=0.9->selenium)\n",
            "  Downloading wsproto-1.2.0-py3-none-any.whl.metadata (5.6 kB)\n",
            "Requirement already satisfied: pysocks!=1.5.7,<2.0,>=1.5.6 in /usr/local/lib/python3.10/dist-packages (from urllib3[socks]<3,>=1.26->selenium) (1.7.1)\n",
            "Collecting h11<1,>=0.9.0 (from wsproto>=0.14->trio-websocket~=0.9->selenium)\n",
            "  Downloading h11-0.14.0-py3-none-any.whl.metadata (8.2 kB)\n",
            "Downloading selenium-4.25.0-py3-none-any.whl (9.7 MB)\n",
            "\u001b[2K   \u001b[90m━━━━━━━━━━━━━━━━━━━━━━━━━━━━━━━━━━━━━━━━\u001b[0m \u001b[32m9.7/9.7 MB\u001b[0m \u001b[31m51.7 MB/s\u001b[0m eta \u001b[36m0:00:00\u001b[0m\n",
            "\u001b[?25hDownloading trio-0.26.2-py3-none-any.whl (475 kB)\n",
            "\u001b[2K   \u001b[90m━━━━━━━━━━━━━━━━━━━━━━━━━━━━━━━━━━━━━━━━\u001b[0m \u001b[32m476.0/476.0 kB\u001b[0m \u001b[31m16.7 MB/s\u001b[0m eta \u001b[36m0:00:00\u001b[0m\n",
            "\u001b[?25hDownloading trio_websocket-0.11.1-py3-none-any.whl (17 kB)\n",
            "Downloading wsproto-1.2.0-py3-none-any.whl (24 kB)\n",
            "Downloading outcome-1.3.0.post0-py2.py3-none-any.whl (10 kB)\n",
            "Downloading h11-0.14.0-py3-none-any.whl (58 kB)\n",
            "\u001b[2K   \u001b[90m━━━━━━━━━━━━━━━━━━━━━━━━━━━━━━━━━━━━━━━━\u001b[0m \u001b[32m58.3/58.3 kB\u001b[0m \u001b[31m3.7 MB/s\u001b[0m eta \u001b[36m0:00:00\u001b[0m\n",
            "\u001b[?25hInstalling collected packages: outcome, h11, wsproto, trio, trio-websocket, selenium\n",
            "Successfully installed h11-0.14.0 outcome-1.3.0.post0 selenium-4.25.0 trio-0.26.2 trio-websocket-0.11.1 wsproto-1.2.0\n"
          ]
        }
      ]
    },
    {
      "cell_type": "code",
      "source": [
        "# Cell 2\n",
        "import time\n",
        "from selenium import webdriver\n",
        "from selenium.webdriver.common.by import By\n",
        "from selenium.webdriver.support.ui import WebDriverWait\n",
        "from selenium.webdriver.support import expected_conditions as EC\n",
        "from selenium.webdriver.chrome.service import Service\n",
        "from webdriver_manager.chrome import ChromeDriverManager\n",
        "import sqlite3\n",
        "from selenium.webdriver.common.action_chains import ActionChains\n",
        "from selenium.common.exceptions import TimeoutException, StaleElementReferenceException\n"
      ],
      "metadata": {
        "id": "BmFflVph3fii"
      },
      "execution_count": 2,
      "outputs": []
    },
    {
      "cell_type": "code",
      "source": [
        "# Set up Selenium with Chrome\n",
        "options = webdriver.ChromeOptions()\n",
        "options.add_argument('--headless')  # Run in headless mode\n",
        "options.add_argument('--no-sandbox')\n",
        "options.add_argument('--disable-dev-shm-usage')\n",
        "\n",
        "service = Service(ChromeDriverManager().install())\n",
        "driver = webdriver.Chrome(service=service, options=options)"
      ],
      "metadata": {
        "id": "qnMEEUG6M-_G"
      },
      "execution_count": 17,
      "outputs": []
    },
    {
      "cell_type": "code",
      "source": [
        "# Cell 3\n",
        "# Fetch the web page\n",
        "url = \"https://archatl.com/parishes/find-a-parish/\"\n",
        "driver.get(url)\n",
        "\n",
        "# Wait for the content to load\n",
        "wait = WebDriverWait(driver, 30)\n",
        "wait.until(EC.presence_of_element_located((By.CSS_SELECTOR, 'span[data-bind=\"html:$data.title\"]')))\n",
        "\n",
        "# Function to scroll to bottom of page\n",
        "def scroll_to_bottom():\n",
        "    last_height = driver.execute_script(\"return document.body.scrollHeight\")\n",
        "    while True:\n",
        "        driver.execute_script(\"window.scrollTo(0, document.body.scrollHeight);\")\n",
        "        time.sleep(2)\n",
        "        new_height = driver.execute_script(\"return document.body.scrollHeight\")\n",
        "        if new_height == last_height:\n",
        "            break\n",
        "        last_height = new_height\n",
        "\n",
        "# Scroll to bottom to load all content\n",
        "scroll_to_bottom()\n",
        "\n",
        "# Give it a little more time for all elements to load\n",
        "time.sleep(5)"
      ],
      "metadata": {
        "id": "l7Ya8X4Y07sx"
      },
      "execution_count": 18,
      "outputs": []
    },
    {
      "cell_type": "code",
      "source": [
        "# Cell 4\n",
        "# Extract parish information\n",
        "parishes = []\n",
        "elements = driver.find_elements(By.CSS_SELECTOR, 'span[data-bind=\"html:$data.title\"]')\n",
        "\n",
        "for element in elements:\n",
        "    try:\n",
        "        parish_info = element.text.strip()\n",
        "        parts = parish_info.split(',')\n",
        "        if len(parts) >= 2:\n",
        "            name = ','.join(parts[:-1]).strip()  # Join all parts except the last one\n",
        "            city = parts[-1].strip()\n",
        "            parishes.append((name, city))\n",
        "            print(f\"Parsed: Name: {name}, City: {city}\")\n",
        "        else:\n",
        "            # Handle entries without a city\n",
        "            name = parish_info\n",
        "            city = \"N/A\"\n",
        "            parishes.append((name, city))\n",
        "            print(f\"Parsed (No City): Name: {name}, City: {city}\")\n",
        "    except StaleElementReferenceException:\n",
        "        print(\"Stale element encountered, skipping...\")\n",
        "        continue\n",
        "\n",
        "print(f\"\\nTotal parishes found: {len(parishes)}\")\n",
        "\n",
        "# Close the browser\n",
        "driver.quit()\n"
      ],
      "metadata": {
        "colab": {
          "base_uri": "https://localhost:8080/"
        },
        "id": "zcMdl0vb-fZP",
        "outputId": "8c329b0d-4d4a-4a5f-8d60-5886ba17e4d4"
      },
      "execution_count": 19,
      "outputs": [
        {
          "output_type": "stream",
          "name": "stdout",
          "text": [
            "Parsed: Name: Queen of Angels, City: Thomson\n",
            "Parsed: Name: Heritage Center, City: Sharon\n",
            "Parsed: Name: Church of the Purification of the Blessed Virgin Mary, City: Crawfordville\n",
            "Parsed: Name: Saint Joseph, City: Washington\n",
            "Parsed: Name: Saint Mary Mission, City: Elberton\n",
            "Parsed: Name: Sacred Heart of Jesus, City: Hartwell\n",
            "Parsed: Name: Sacred Heart, City: Milledgeville\n",
            "Parsed: Name: Christ Our King and Savior, Greensboro, City: GA\n",
            "Parsed: Name: Saint James Catholic Church, City: Madison\n",
            "Parsed: Name: Saint Aelred, City: Bishop\n",
            "\n",
            "Total parishes found: 10\n"
          ]
        }
      ]
    },
    {
      "cell_type": "code",
      "source": [
        "# Cell 5\n",
        "# Create SQLite database and table\n",
        "conn = sqlite3.connect('parishes.db')\n",
        "cursor = conn.cursor()\n",
        "cursor.execute('''\n",
        "    CREATE TABLE IF NOT EXISTS parishes (\n",
        "        id INTEGER PRIMARY KEY,\n",
        "        name TEXT,\n",
        "        city TEXT\n",
        "    )\n",
        "''')\n"
      ],
      "metadata": {
        "colab": {
          "base_uri": "https://localhost:8080/"
        },
        "id": "1hArCj0C0-jf",
        "outputId": "946196c4-4366-4c95-ae7a-c633da1d3b2b"
      },
      "execution_count": 20,
      "outputs": [
        {
          "output_type": "execute_result",
          "data": {
            "text/plain": [
              "<sqlite3.Cursor at 0x7a8e250c0ac0>"
            ]
          },
          "metadata": {},
          "execution_count": 20
        }
      ]
    },
    {
      "cell_type": "code",
      "source": [
        "# Cell 6\n",
        "# Insert data into the database\n",
        "cursor.executemany('INSERT INTO parishes (name, city) VALUES (?, ?)', parishes)\n",
        "conn.commit()"
      ],
      "metadata": {
        "id": "kfuU4Spb1Egy"
      },
      "execution_count": 21,
      "outputs": []
    },
    {
      "cell_type": "code",
      "source": [
        "# Cell 7\n",
        "# Verify the data in the database\n",
        "cursor.execute('SELECT * FROM parishes')\n",
        "rows = cursor.fetchall()\n",
        "for row in rows[:20]:  # Print first 20 for brevity\n",
        "    print(row)\n",
        "\n",
        "print(f\"\\nTotal parishes in database: {len(rows)}\")"
      ],
      "metadata": {
        "colab": {
          "base_uri": "https://localhost:8080/"
        },
        "id": "aXnzhMjQA3a_",
        "outputId": "e27376f2-1721-4fbd-de9f-c1bdc2be0dff"
      },
      "execution_count": 22,
      "outputs": [
        {
          "output_type": "stream",
          "name": "stdout",
          "text": [
            "(1, 'Queen of Angels', 'Thomson')\n",
            "(2, 'Heritage Center', 'Sharon')\n",
            "(3, 'Church of the Purification of the Blessed Virgin Mary', 'Crawfordville')\n",
            "(4, 'Saint Joseph', 'Washington')\n",
            "(5, 'Saint Mary Mission', 'Elberton')\n",
            "(6, 'Sacred Heart of Jesus', 'Hartwell')\n",
            "(7, 'Sacred Heart', 'Milledgeville')\n",
            "(8, 'Christ Our King and Savior, Greensboro', 'GA')\n",
            "(9, 'Saint James Catholic Church', 'Madison')\n",
            "(10, 'Saint Aelred', 'Bishop')\n",
            "(11, 'Queen of Angels', 'Thomson')\n",
            "(12, 'Heritage Center', 'Sharon')\n",
            "(13, 'Church of the Purification of the Blessed Virgin Mary', 'Crawfordville')\n",
            "(14, 'Saint Joseph', 'Washington')\n",
            "(15, 'Saint Mary Mission', 'Elberton')\n",
            "(16, 'Sacred Heart of Jesus', 'Hartwell')\n",
            "(17, 'Sacred Heart', 'Milledgeville')\n",
            "(18, 'Christ Our King and Savior, Greensboro', 'GA')\n",
            "(19, 'Saint James Catholic Church', 'Madison')\n",
            "(20, 'Saint Aelred', 'Bishop')\n",
            "\n",
            "Total parishes in database: 30\n"
          ]
        }
      ]
    },
    {
      "cell_type": "code",
      "source": [
        "# Cell 8\n",
        "# Close the database connection\n",
        "conn.close()\n",
        "\n",
        "print(f\"Total parishes added to the database: {len(parishes)}\")"
      ],
      "metadata": {
        "colab": {
          "base_uri": "https://localhost:8080/"
        },
        "id": "lBFfo3B3Cm0p",
        "outputId": "172de3a9-4dfc-4c07-962d-3b751daf1e23"
      },
      "execution_count": 23,
      "outputs": [
        {
          "output_type": "stream",
          "name": "stdout",
          "text": [
            "Total parishes added to the database: 10\n"
          ]
        }
      ]
    },
    {
      "cell_type": "code",
      "source": [
        "# Expected Output for https://archatl.com/parishes/find-a-parish/:\n",
        "# # [(1, 'All Saints', 'Dunwoody', '2443 Mount Vernon Road, Dunwoody, GA 30338', 'http://www.allsaintscatholic.org'),\n",
        "#  (2, 'Annunciation', 'Milledgeville', '171 South Jefferson Street, Milledgeville, GA 31061', 'https://www.annunciationmilledgeville.org/'),\n",
        "#  (3, 'Ascension', 'Brookhaven', '2989 Lavista Road, Brookhaven, GA 30329', 'http://www.ascca.net'),\n",
        "#  (4, 'Asian Pacific Ministry', 'Doraville', '2699 Shallowford Road, Doraville, GA 30360', 'N/A'),\n",
        "#  (5, 'Basilica of the Sacred Heart of Jesus', 'Atlanta', '353 Peachtree Street NE, Atlanta, GA 30308', 'http://www.sacredheartatlanta.org')]"
      ],
      "metadata": {
        "id": "IfCnDF171E7y"
      },
      "execution_count": 10,
      "outputs": []
    }
  ]
}